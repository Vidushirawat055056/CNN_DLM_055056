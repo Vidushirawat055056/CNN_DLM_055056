{
  "cells": [
    {
      "cell_type": "markdown",
      "metadata": {
        "id": "9dX4L9GXuXKq"
      },
      "source": [
        "# MNIST Handwritten Digit Recognizer using Deep CNN\n",
        "\n",
        "Contributors:\n",
        "- Sejal Raj (055041)\n",
        "- Vidushi Rawat (055056\n",
        ")"
      ]
    },
    {
      "cell_type": "markdown",
      "metadata": {
        "id": "K_YntzlsRNWx"
      },
      "source": [
        "## Problem Statement:\n",
        "\n",
        "Handwritten digit recognition is essential for automating tasks in various domains, but traditional methods face difficulties due to the inherent variability of handwriting. This project focuses on building a deep CNN model to overcome these limitations. By utilizing the power of deep learning, we aim to create a system that can accurately classify handwritten digits, reducing errors and manual effort in real-world applications.\n",
        "\n"
      ]
    },
    {
      "cell_type": "markdown",
      "metadata": {
        "id": "l97pEQXwvpNT"
      },
      "source": [
        "## Project Structure\n",
        "\n",
        "1. Importing Libraries\n",
        "2. Preparing the Dataset\n",
        "3. Model Building\n",
        "4. Model Fitting\n",
        "5. Model Analysis\n",
        "6. Predicting using test data\n"
      ]
    },
    {
      "cell_type": "markdown",
      "metadata": {
        "id": "1KOhAGcOwIYp"
      },
      "source": [
        "##Data Analysis\n",
        "###1. Importing the Libraries\n",
        "Tensorflow v2 - An open-source machine learning framework from Google.\n",
        "Keras - An open-source neural network library running on top of TensorFlow.\n",
        "###2. Preparing the Dataset\n",
        "We utilized the MNIST Handwritten Digit Recognition dataset. read_csv loaded the dataset into a pandas DataFrame. The label column was extracted and stored in Y_srvr41560428train, representing the target variable. The pixel values were stored in X_srvr4156train for model input.\n",
        "\n",
        "A countplot visualized the distribution of digit classes. Missing values were checked to ensure data integrity.\n",
        "\n",
        "####2.1. Normalisation\n",
        "Normalization scaled input values for efficient model training. Pixel values (0-255) were divided by 255, transforming the range to [0,1]. This aids faster convergence and stable gradient updates.\n",
        "\n",
        "####2.2. Reshaping\n",
        "Pixel value arrays were reshaped into (28,28,1) matrices, matching the CNN input shape.\n",
        "\n",
        "####2.3. Encoding\n",
        "Labels were one-hot encoded to match the CNN output vector, enabling effective classification.\n",
        "\n",
        "####2.4. Train-Test Split\n",
        "The data was split into training (srvr4156train) and validation sets to evaluate model generalization and prevent overfitting or underfitting.\n",
        "\n",
        "###3. Model Building\n",
        "A Deep Convolutional Neural Network (CNN) based on the LeNet-5 architecture was implemented.\n",
        "\n",
        "The model structure is:\n",
        "\n",
        "Input → [[Conv2D → ReLU] × 2 → MaxPool2D → Dropout] × 2 → Flatten → Dense → Dropout → Output\n",
        "\n",
        "Data augmentation (zooming, rotating, flipping, cropping) expanded the dataset. RMSProp and ReduceLROnPlateau were used for optimization.\n",
        "\n",
        "###4. Model Fitting\n",
        "The model was trained on the dataset, leveraging Kaggle's GPU support for faster convergence.\n",
        "\n",
        "###5. Prediction using test Data\n",
        "Predictions were made on the test dataset and saved to a CSV file for submission."
      ]
    },
    {
      "cell_type": "markdown",
      "metadata": {
        "id": "Dvwl4F_LwAkv"
      },
      "source": [
        "## Observations\n",
        "\n",
        "### **Importing Libraries** - Successful import of all required libraries: TensorFlow, Keras, Pandas, and Matplotlib.\n",
        "\n",
        "### **Preparing the Dataset** - MNIST dataset loaded and preprocessed successfully.\n",
        "- Dataset split into **training** and **validation** sets for improved generalization.\n",
        "- **Countplot** confirmed balanced distribution of digit classes.\n",
        "- No missing values detected in the dataset.\n",
        "- Pixel values normalized from **[0,255] to [0,1]** for enhanced training efficiency.\n",
        "\n",
        "### **Model Building** - **LeNet-5 architecture** implemented for efficient digit recognition.\n",
        "- Network structure included **convolutional, pooling, dropout, and fully connected output layers**.\n",
        "- **Data Augmentation** used to expand dataset and improve model generalization.\n",
        "- **RMSProp optimizer** and **ReduceLROnPlateau** learning rate adjustment employed for better convergence.\n",
        "\n",
        "### **Model Fitting** - Training conducted on Kaggle with **GPU acceleration**, reducing computation time.\n",
        "- Loss and accuracy improved consistently across epochs.\n",
        "- Training and validation losses monitored to prevent overfitting.\n",
        "\n",
        "### **Model Analysis** - **Learning curve** showed decreasing training and validation losses, indicating successful training.\n",
        "- **Confusion matrix** revealed strong performance across most digit classes, with some misclassifications.\n",
        "- Observed errors highlighted potential areas for model improvement.\n",
        "\n",
        "### **Predicting Using Test Data** - Trained model used to generate predictions on the test dataset.\n",
        "- Predictions saved to a **CSV file** for competition submission.\n",
        "- Final model demonstrated strong performance, consistent with validation accuracy.\n",
        "\n",
        "\n",
        "\n",
        "\n",
        "\n"
      ]
    },
    {
      "cell_type": "markdown",
      "metadata": {
        "id": "OEViAe-z0Qbt"
      },
      "source": [
        "## Managerial Insights\n",
        "\n",
        "**Automation Potential:**\n",
        "\n",
        "* The CNN model's high accuracy in classifying handwritten digits presents a strong opportunity for automated data entry systems.\n",
        "* This is particularly relevant for sectors like banking, postal services, and form digitization, where it can drastically reduce manual errors and accelerate processing times.\n",
        "\n",
        "**Cost-Effectiveness:**\n",
        "\n",
        "* Employing deep learning-based recognition offers a path to significant labor cost reductions associated with manual digit transcription.\n",
        "* Furthermore, the use of data augmentation optimizes model performance without necessitating extensive datasets, thereby minimizing data acquisition expenses.\n",
        "\n",
        "**Scalability & Adaptability:**\n",
        "\n",
        "* The model's architecture allows for fine-tuning to recognize characters across diverse languages and handwriting styles, broadening its applicability in sectors such as finance, healthcare, and government document processing.\n",
        "\n",
        "**Performance vs. Infrastructure:**\n",
        "\n",
        "* While CNNs are powerful, they demand substantial computational resources, notably GPUs.\n",
        "* Organizations can strategically employ cloud-based AI services to achieve a cost-effective balance between performance and infrastructure requirements when scaling these models.\n",
        "\n",
        "**Error Handling & Continuous Improvement:**\n",
        "\n",
        "* The confusion matrix reveals misclassification patterns, indicating potential biases towards certain digits.\n",
        "* Utilizing active learning and consistently retraining the model with updated data can enhance accuracy over time.\n",
        "\n",
        "**Strategic Decision-Making:**\n",
        "\n",
        "* Before implementing AI-driven handwriting recognition, businesses should evaluate their data availability, infrastructure capabilities, and regulatory compliance.\n",
        "* The model's success in digit recognition demonstrates a compelling business case for integrating AI into process automation."
      ]
    },
    {
      "cell_type": "markdown",
      "metadata": {
        "id": "zQHYkAoVUMKi"
      },
      "source": [
        "## 1. Importing the Libraries"
      ]
    },
    {
      "cell_type": "code",
      "execution_count": 1,
      "metadata": {
        "colab": {
          "base_uri": "https://localhost:8080/"
        },
        "id": "jo-FRo-cx4IZ",
        "outputId": "f2e6a012-6b38-4b0c-eeb4-bc096b0dfd01"
      },
      "outputs": [
        {
          "output_type": "stream",
          "name": "stdout",
          "text": [
            "Requirement already satisfied: tensorflow in /usr/local/lib/python3.11/dist-packages (2.19.0)\n",
            "Requirement already satisfied: absl-py>=1.0.0 in /usr/local/lib/python3.11/dist-packages (from tensorflow) (1.4.0)\n",
            "Requirement already satisfied: astunparse>=1.6.0 in /usr/local/lib/python3.11/dist-packages (from tensorflow) (1.6.3)\n",
            "Requirement already satisfied: flatbuffers>=24.3.25 in /usr/local/lib/python3.11/dist-packages (from tensorflow) (25.2.10)\n",
            "Requirement already satisfied: gast!=0.5.0,!=0.5.1,!=0.5.2,>=0.2.1 in /usr/local/lib/python3.11/dist-packages (from tensorflow) (0.6.0)\n",
            "Requirement already satisfied: google-pasta>=0.1.1 in /usr/local/lib/python3.11/dist-packages (from tensorflow) (0.2.0)\n",
            "Requirement already satisfied: libclang>=13.0.0 in /usr/local/lib/python3.11/dist-packages (from tensorflow) (18.1.1)\n",
            "Requirement already satisfied: opt-einsum>=2.3.2 in /usr/local/lib/python3.11/dist-packages (from tensorflow) (3.4.0)\n",
            "Requirement already satisfied: packaging in /usr/local/lib/python3.11/dist-packages (from tensorflow) (24.2)\n",
            "Requirement already satisfied: protobuf!=4.21.0,!=4.21.1,!=4.21.2,!=4.21.3,!=4.21.4,!=4.21.5,<6.0.0dev,>=3.20.3 in /usr/local/lib/python3.11/dist-packages (from tensorflow) (5.29.4)\n",
            "Requirement already satisfied: requests<3,>=2.21.0 in /usr/local/lib/python3.11/dist-packages (from tensorflow) (2.32.3)\n",
            "Requirement already satisfied: setuptools in /usr/local/lib/python3.11/dist-packages (from tensorflow) (75.1.0)\n",
            "Requirement already satisfied: six>=1.12.0 in /usr/local/lib/python3.11/dist-packages (from tensorflow) (1.17.0)\n",
            "Requirement already satisfied: termcolor>=1.1.0 in /usr/local/lib/python3.11/dist-packages (from tensorflow) (2.5.0)\n",
            "Requirement already satisfied: typing-extensions>=3.6.6 in /usr/local/lib/python3.11/dist-packages (from tensorflow) (4.12.2)\n",
            "Requirement already satisfied: wrapt>=1.11.0 in /usr/local/lib/python3.11/dist-packages (from tensorflow) (1.17.2)\n",
            "Requirement already satisfied: grpcio<2.0,>=1.24.3 in /usr/local/lib/python3.11/dist-packages (from tensorflow) (1.71.0)\n",
            "Requirement already satisfied: tensorboard~=2.19.0 in /usr/local/lib/python3.11/dist-packages (from tensorflow) (2.19.0)\n",
            "Requirement already satisfied: keras>=3.5.0 in /usr/local/lib/python3.11/dist-packages (from tensorflow) (3.8.0)\n",
            "Requirement already satisfied: numpy<2.2.0,>=1.26.0 in /usr/local/lib/python3.11/dist-packages (from tensorflow) (2.0.2)\n",
            "Requirement already satisfied: h5py>=3.11.0 in /usr/local/lib/python3.11/dist-packages (from tensorflow) (3.13.0)\n",
            "Requirement already satisfied: ml-dtypes<1.0.0,>=0.5.1 in /usr/local/lib/python3.11/dist-packages (from tensorflow) (0.5.1)\n",
            "Requirement already satisfied: tensorflow-io-gcs-filesystem>=0.23.1 in /usr/local/lib/python3.11/dist-packages (from tensorflow) (0.37.1)\n",
            "Requirement already satisfied: wheel<1.0,>=0.23.0 in /usr/local/lib/python3.11/dist-packages (from astunparse>=1.6.0->tensorflow) (0.45.1)\n",
            "Requirement already satisfied: rich in /usr/local/lib/python3.11/dist-packages (from keras>=3.5.0->tensorflow) (13.9.4)\n",
            "Requirement already satisfied: namex in /usr/local/lib/python3.11/dist-packages (from keras>=3.5.0->tensorflow) (0.0.8)\n",
            "Requirement already satisfied: optree in /usr/local/lib/python3.11/dist-packages (from keras>=3.5.0->tensorflow) (0.14.1)\n",
            "Requirement already satisfied: charset-normalizer<4,>=2 in /usr/local/lib/python3.11/dist-packages (from requests<3,>=2.21.0->tensorflow) (3.4.1)\n",
            "Requirement already satisfied: idna<4,>=2.5 in /usr/local/lib/python3.11/dist-packages (from requests<3,>=2.21.0->tensorflow) (3.10)\n",
            "Requirement already satisfied: urllib3<3,>=1.21.1 in /usr/local/lib/python3.11/dist-packages (from requests<3,>=2.21.0->tensorflow) (2.3.0)\n",
            "Requirement already satisfied: certifi>=2017.4.17 in /usr/local/lib/python3.11/dist-packages (from requests<3,>=2.21.0->tensorflow) (2025.1.31)\n",
            "Requirement already satisfied: markdown>=2.6.8 in /usr/lib/python3/dist-packages (from tensorboard~=2.19.0->tensorflow) (3.3.6)\n",
            "Requirement already satisfied: tensorboard-data-server<0.8.0,>=0.7.0 in /usr/local/lib/python3.11/dist-packages (from tensorboard~=2.19.0->tensorflow) (0.7.2)\n",
            "Requirement already satisfied: werkzeug>=1.0.1 in /usr/local/lib/python3.11/dist-packages (from tensorboard~=2.19.0->tensorflow) (3.1.3)\n",
            "Requirement already satisfied: MarkupSafe>=2.1.1 in /usr/local/lib/python3.11/dist-packages (from werkzeug>=1.0.1->tensorboard~=2.19.0->tensorflow) (3.0.2)\n",
            "Requirement already satisfied: markdown-it-py>=2.2.0 in /usr/local/lib/python3.11/dist-packages (from rich->keras>=3.5.0->tensorflow) (3.0.0)\n",
            "Requirement already satisfied: pygments<3.0.0,>=2.13.0 in /usr/local/lib/python3.11/dist-packages (from rich->keras>=3.5.0->tensorflow) (2.19.1)\n",
            "Requirement already satisfied: mdurl~=0.1 in /usr/local/lib/python3.11/dist-packages (from markdown-it-py>=2.2.0->rich->keras>=3.5.0->tensorflow) (0.1.2)\n"
          ]
        }
      ],
      "source": [
        "!pip install tensorflow"
      ]
    },
    {
      "cell_type": "code",
      "execution_count": 2,
      "metadata": {
        "colab": {
          "base_uri": "https://localhost:8080/"
        },
        "id": "LYlQnHuARMFQ",
        "outputId": "3d3bb28d-b022-466d-f7db-7e1e40cebfb3"
      },
      "outputs": [
        {
          "output_type": "stream",
          "name": "stdout",
          "text": [
            "TensorFlow Version:   2.19.0\n",
            "Keras Version:   3.8.0\n"
          ]
        }
      ],
      "source": [
        "# Importing Tensorflow and keras\n",
        "\n",
        "import tensorflow as tf\n",
        "from tensorflow.keras import layers\n",
        "from tensorflow.keras.preprocessing.image import ImageDataGenerator\n",
        "import pandas as pd\n",
        "import numpy as np\n",
        "import seaborn as sns\n",
        "import matplotlib.pyplot as plt\n",
        "import matplotlib.image as img\n",
        "%matplotlib inline\n",
        "\n",
        "from sklearn.model_selection import train_test_split\n",
        "from sklearn.metrics import confusion_matrix\n",
        "import itertools\n",
        "\n",
        "#Tensorflow Version\n",
        "print(\"TensorFlow Version:   \"+tf.version.VERSION)\n",
        "print(\"Keras Version:   \"+tf.keras.__version__)"
      ]
    },
    {
      "cell_type": "markdown",
      "metadata": {
        "id": "WEPDqrJLUWEi"
      },
      "source": [
        "## 2. Preparing the Dataset"
      ]
    },
    {
      "cell_type": "code",
      "execution_count": 3,
      "metadata": {
        "colab": {
          "base_uri": "https://localhost:8080/"
        },
        "id": "B5stZ8PVLQ3w",
        "outputId": "48a86df6-73cc-4084-9833-c67c4cf8d731"
      },
      "outputs": [
        {
          "output_type": "stream",
          "name": "stdout",
          "text": [
            "Requirement already satisfied: gdown in /usr/local/lib/python3.11/dist-packages (5.2.0)\n",
            "Requirement already satisfied: beautifulsoup4 in /usr/local/lib/python3.11/dist-packages (from gdown) (4.13.3)\n",
            "Requirement already satisfied: filelock in /usr/local/lib/python3.11/dist-packages (from gdown) (3.18.0)\n",
            "Requirement already satisfied: requests[socks] in /usr/local/lib/python3.11/dist-packages (from gdown) (2.32.3)\n",
            "Requirement already satisfied: tqdm in /usr/local/lib/python3.11/dist-packages (from gdown) (4.67.1)\n",
            "Requirement already satisfied: soupsieve>1.2 in /usr/local/lib/python3.11/dist-packages (from beautifulsoup4->gdown) (2.6)\n",
            "Requirement already satisfied: typing-extensions>=4.0.0 in /usr/local/lib/python3.11/dist-packages (from beautifulsoup4->gdown) (4.12.2)\n",
            "Requirement already satisfied: charset-normalizer<4,>=2 in /usr/local/lib/python3.11/dist-packages (from requests[socks]->gdown) (3.4.1)\n",
            "Requirement already satisfied: idna<4,>=2.5 in /usr/local/lib/python3.11/dist-packages (from requests[socks]->gdown) (3.10)\n",
            "Requirement already satisfied: urllib3<3,>=1.21.1 in /usr/local/lib/python3.11/dist-packages (from requests[socks]->gdown) (2.3.0)\n",
            "Requirement already satisfied: certifi>=2017.4.17 in /usr/local/lib/python3.11/dist-packages (from requests[socks]->gdown) (2025.1.31)\n",
            "Requirement already satisfied: PySocks!=1.5.7,>=1.5.6 in /usr/local/lib/python3.11/dist-packages (from requests[socks]->gdown) (1.7.1)\n",
            "Downloading...\n",
            "From: https://drive.google.com/uc?id=1dqjEk1bza1L12-IQYOCs0Rbc9IHmqr3z\n",
            "To: /content/mnist_train.csv\n",
            "100% 76.8M/76.8M [00:00<00:00, 90.9MB/s]\n",
            "File imported successfully\n"
          ]
        }
      ],
      "source": [
        "# Train Data\n",
        "\n",
        "import pandas as pd\n",
        "!pip install gdown\n",
        "!gdown 1dqjEk1bza1L12-IQYOCs0Rbc9IHmqr3z\n",
        "\n",
        "try:\n",
        "  srvr4156train = pd.read_csv(\"mnist_train.csv\")\n",
        "  print(\"File imported successfully\")\n",
        "except FileNotFoundError:\n",
        "  print(\"File not found.\")"
      ]
    },
    {
      "cell_type": "code",
      "execution_count": 4,
      "metadata": {
        "colab": {
          "base_uri": "https://localhost:8080/"
        },
        "id": "9RTsfWNpJp7b",
        "outputId": "177bb53f-4f8f-4b4e-ee43-9516f8f331bf"
      },
      "outputs": [
        {
          "output_type": "stream",
          "name": "stdout",
          "text": [
            "Requirement already satisfied: gdown in /usr/local/lib/python3.11/dist-packages (5.2.0)\n",
            "Requirement already satisfied: beautifulsoup4 in /usr/local/lib/python3.11/dist-packages (from gdown) (4.13.3)\n",
            "Requirement already satisfied: filelock in /usr/local/lib/python3.11/dist-packages (from gdown) (3.18.0)\n",
            "Requirement already satisfied: requests[socks] in /usr/local/lib/python3.11/dist-packages (from gdown) (2.32.3)\n",
            "Requirement already satisfied: tqdm in /usr/local/lib/python3.11/dist-packages (from gdown) (4.67.1)\n",
            "Requirement already satisfied: soupsieve>1.2 in /usr/local/lib/python3.11/dist-packages (from beautifulsoup4->gdown) (2.6)\n",
            "Requirement already satisfied: typing-extensions>=4.0.0 in /usr/local/lib/python3.11/dist-packages (from beautifulsoup4->gdown) (4.12.2)\n",
            "Requirement already satisfied: charset-normalizer<4,>=2 in /usr/local/lib/python3.11/dist-packages (from requests[socks]->gdown) (3.4.1)\n",
            "Requirement already satisfied: idna<4,>=2.5 in /usr/local/lib/python3.11/dist-packages (from requests[socks]->gdown) (3.10)\n",
            "Requirement already satisfied: urllib3<3,>=1.21.1 in /usr/local/lib/python3.11/dist-packages (from requests[socks]->gdown) (2.3.0)\n",
            "Requirement already satisfied: certifi>=2017.4.17 in /usr/local/lib/python3.11/dist-packages (from requests[socks]->gdown) (2025.1.31)\n",
            "Requirement already satisfied: PySocks!=1.5.7,>=1.5.6 in /usr/local/lib/python3.11/dist-packages (from requests[socks]->gdown) (1.7.1)\n",
            "Downloading...\n",
            "From: https://drive.google.com/uc?id=1YiDZfgRO89NWqQWySf2Fq3R779LemviE\n",
            "To: /content/test.csv\n",
            "100% 51.1M/51.1M [00:00<00:00, 328MB/s]\n",
            "File imported successfully\n"
          ]
        }
      ],
      "source": [
        "# Test Data\n",
        "\n",
        "!pip install gdown\n",
        "\n",
        "!gdown 1YiDZfgRO89NWqQWySf2Fq3R779LemviE\n",
        "\n",
        "try:\n",
        "  srvr4156test = pd.read_csv(\"test.csv\")\n",
        "  print(\"File imported successfully\")\n",
        "except FileNotFoundError:\n",
        "  print(\"File not found.\")"
      ]
    },
    {
      "cell_type": "code",
      "execution_count": 5,
      "metadata": {
        "colab": {
          "base_uri": "https://localhost:8080/",
          "height": 429
        },
        "id": "05yoL078UJIp",
        "outputId": "d9376c54-c607-49b6-b671-5bb6fc9e4600"
      },
      "outputs": [
        {
          "output_type": "execute_result",
          "data": {
            "text/plain": [
              "label\n",
              "1    4684\n",
              "7    4401\n",
              "3    4351\n",
              "9    4188\n",
              "2    4177\n",
              "6    4137\n",
              "0    4132\n",
              "4    4072\n",
              "8    4063\n",
              "5    3795\n",
              "Name: count, dtype: int64"
            ],
            "text/html": [
              "<div>\n",
              "<style scoped>\n",
              "    .dataframe tbody tr th:only-of-type {\n",
              "        vertical-align: middle;\n",
              "    }\n",
              "\n",
              "    .dataframe tbody tr th {\n",
              "        vertical-align: top;\n",
              "    }\n",
              "\n",
              "    .dataframe thead th {\n",
              "        text-align: right;\n",
              "    }\n",
              "</style>\n",
              "<table border=\"1\" class=\"dataframe\">\n",
              "  <thead>\n",
              "    <tr style=\"text-align: right;\">\n",
              "      <th></th>\n",
              "      <th>count</th>\n",
              "    </tr>\n",
              "    <tr>\n",
              "      <th>label</th>\n",
              "      <th></th>\n",
              "    </tr>\n",
              "  </thead>\n",
              "  <tbody>\n",
              "    <tr>\n",
              "      <th>1</th>\n",
              "      <td>4684</td>\n",
              "    </tr>\n",
              "    <tr>\n",
              "      <th>7</th>\n",
              "      <td>4401</td>\n",
              "    </tr>\n",
              "    <tr>\n",
              "      <th>3</th>\n",
              "      <td>4351</td>\n",
              "    </tr>\n",
              "    <tr>\n",
              "      <th>9</th>\n",
              "      <td>4188</td>\n",
              "    </tr>\n",
              "    <tr>\n",
              "      <th>2</th>\n",
              "      <td>4177</td>\n",
              "    </tr>\n",
              "    <tr>\n",
              "      <th>6</th>\n",
              "      <td>4137</td>\n",
              "    </tr>\n",
              "    <tr>\n",
              "      <th>0</th>\n",
              "      <td>4132</td>\n",
              "    </tr>\n",
              "    <tr>\n",
              "      <th>4</th>\n",
              "      <td>4072</td>\n",
              "    </tr>\n",
              "    <tr>\n",
              "      <th>8</th>\n",
              "      <td>4063</td>\n",
              "    </tr>\n",
              "    <tr>\n",
              "      <th>5</th>\n",
              "      <td>3795</td>\n",
              "    </tr>\n",
              "  </tbody>\n",
              "</table>\n",
              "</div><br><label><b>dtype:</b> int64</label>"
            ]
          },
          "metadata": {},
          "execution_count": 5
        }
      ],
      "source": [
        "Y_srvr4156train = srvr4156train['label']\n",
        "\n",
        "#Dropping Label Column\n",
        "X_srvr4156train = srvr4156train.drop(labels=['label'],axis=1)\n",
        "\n",
        "#free up some space\n",
        "del srvr4156train\n",
        "\n",
        "Y_srvr4156train.value_counts()"
      ]
    },
    {
      "cell_type": "code",
      "execution_count": 6,
      "metadata": {
        "colab": {
          "base_uri": "https://localhost:8080/",
          "height": 209
        },
        "id": "jGSazKXLXRtA",
        "outputId": "f30c7e8f-5aca-4d9e-c913-a45965f84ded"
      },
      "outputs": [
        {
          "output_type": "execute_result",
          "data": {
            "text/plain": [
              "count       784\n",
              "unique        1\n",
              "top       False\n",
              "freq        784\n",
              "dtype: object"
            ],
            "text/html": [
              "<div>\n",
              "<style scoped>\n",
              "    .dataframe tbody tr th:only-of-type {\n",
              "        vertical-align: middle;\n",
              "    }\n",
              "\n",
              "    .dataframe tbody tr th {\n",
              "        vertical-align: top;\n",
              "    }\n",
              "\n",
              "    .dataframe thead th {\n",
              "        text-align: right;\n",
              "    }\n",
              "</style>\n",
              "<table border=\"1\" class=\"dataframe\">\n",
              "  <thead>\n",
              "    <tr style=\"text-align: right;\">\n",
              "      <th></th>\n",
              "      <th>0</th>\n",
              "    </tr>\n",
              "  </thead>\n",
              "  <tbody>\n",
              "    <tr>\n",
              "      <th>count</th>\n",
              "      <td>784</td>\n",
              "    </tr>\n",
              "    <tr>\n",
              "      <th>unique</th>\n",
              "      <td>1</td>\n",
              "    </tr>\n",
              "    <tr>\n",
              "      <th>top</th>\n",
              "      <td>False</td>\n",
              "    </tr>\n",
              "    <tr>\n",
              "      <th>freq</th>\n",
              "      <td>784</td>\n",
              "    </tr>\n",
              "  </tbody>\n",
              "</table>\n",
              "</div><br><label><b>dtype:</b> object</label>"
            ]
          },
          "metadata": {},
          "execution_count": 6
        }
      ],
      "source": [
        "#Checking for any null or missing values\n",
        "X_srvr4156train.isnull().any().describe()"
      ]
    },
    {
      "cell_type": "code",
      "execution_count": 7,
      "metadata": {
        "colab": {
          "base_uri": "https://localhost:8080/",
          "height": 209
        },
        "id": "U3_xptjfNMPb",
        "outputId": "baedab4f-112d-463d-f7d7-fb8d486aef5b"
      },
      "outputs": [
        {
          "output_type": "execute_result",
          "data": {
            "text/plain": [
              "count       784\n",
              "unique        1\n",
              "top       False\n",
              "freq        784\n",
              "dtype: object"
            ],
            "text/html": [
              "<div>\n",
              "<style scoped>\n",
              "    .dataframe tbody tr th:only-of-type {\n",
              "        vertical-align: middle;\n",
              "    }\n",
              "\n",
              "    .dataframe tbody tr th {\n",
              "        vertical-align: top;\n",
              "    }\n",
              "\n",
              "    .dataframe thead th {\n",
              "        text-align: right;\n",
              "    }\n",
              "</style>\n",
              "<table border=\"1\" class=\"dataframe\">\n",
              "  <thead>\n",
              "    <tr style=\"text-align: right;\">\n",
              "      <th></th>\n",
              "      <th>0</th>\n",
              "    </tr>\n",
              "  </thead>\n",
              "  <tbody>\n",
              "    <tr>\n",
              "      <th>count</th>\n",
              "      <td>784</td>\n",
              "    </tr>\n",
              "    <tr>\n",
              "      <th>unique</th>\n",
              "      <td>1</td>\n",
              "    </tr>\n",
              "    <tr>\n",
              "      <th>top</th>\n",
              "      <td>False</td>\n",
              "    </tr>\n",
              "    <tr>\n",
              "      <th>freq</th>\n",
              "      <td>784</td>\n",
              "    </tr>\n",
              "  </tbody>\n",
              "</table>\n",
              "</div><br><label><b>dtype:</b> object</label>"
            ]
          },
          "metadata": {},
          "execution_count": 7
        }
      ],
      "source": [
        "srvr4156test.isnull().any().describe()"
      ]
    },
    {
      "cell_type": "markdown",
      "metadata": {
        "id": "xJQsCTooXv1X"
      },
      "source": [
        "### Normalisation"
      ]
    },
    {
      "cell_type": "code",
      "execution_count": 8,
      "metadata": {
        "id": "pTFl1nLqXpSy"
      },
      "outputs": [],
      "source": [
        "X_srvr4156train = X_srvr4156train/255\n",
        "srvr4156test = srvr4156test/255"
      ]
    },
    {
      "cell_type": "markdown",
      "metadata": {
        "id": "0Lx2A8K8YAKn"
      },
      "source": [
        "### Reshape\n",
        "The array of pixel values are reshaped into a (28,28,1) matrix. We are feeding the CNN model with input_shape of 28x28x1 matrix."
      ]
    },
    {
      "cell_type": "code",
      "execution_count": 9,
      "metadata": {
        "id": "RgJra9a4X9U1"
      },
      "outputs": [],
      "source": [
        "X_srvr4156train = X_srvr4156train.values.reshape(-1,28,28,1)"
      ]
    },
    {
      "cell_type": "code",
      "execution_count": 10,
      "metadata": {
        "id": "wVu2fuihYXi7"
      },
      "outputs": [],
      "source": [
        "srvr4156test = srvr4156test.values.reshape(-1,28,28,1)"
      ]
    },
    {
      "cell_type": "markdown",
      "metadata": {
        "id": "GSbzJTHlYkhS"
      },
      "source": [
        "### Label Encoding"
      ]
    },
    {
      "cell_type": "code",
      "execution_count": 11,
      "metadata": {
        "id": "U7DvS95KYrVa"
      },
      "outputs": [],
      "source": [
        "Y_srvr4156train = tf.keras.utils.to_categorical(Y_srvr4156train, num_classes=10)\n",
        "#To enable label into hot vector. For Eg.7 -> [0,0,0,0,0,0,0,1,0,0]"
      ]
    },
    {
      "cell_type": "markdown",
      "metadata": {
        "id": "z_6i2uEqsOCE"
      },
      "source": [
        "### Train and Validation Data Split\n"
      ]
    },
    {
      "cell_type": "code",
      "execution_count": 12,
      "metadata": {
        "id": "UUBksBY12L8V"
      },
      "outputs": [],
      "source": [
        "#Spliting srvr4156train\n",
        "X_srvr4156train,X_val,Y_srvr4156train,Y_val = train_test_split(X_srvr4156train,Y_srvr4156train,test_size=0.1,\n",
        "                                                random_state = 55004156)"
      ]
    },
    {
      "cell_type": "code",
      "execution_count": 13,
      "metadata": {
        "colab": {
          "base_uri": "https://localhost:8080/",
          "height": 430
        },
        "id": "KVNgcZ5F3Ap5",
        "outputId": "6f6200b4-dad0-4a4b-9f5d-ecc76acf9735"
      },
      "outputs": [
        {
          "output_type": "display_data",
          "data": {
            "text/plain": [
              "<Figure size 640x480 with 1 Axes>"
            ],
            "image/png": "[encoded data removed]"
          },
          "metadata": {}
        }
      ],
      "source": [
        "#An image sample\n",
        "\n",
        "g = plt.imshow(X_srvr4156train[0][:,:,0])"
      ]
    },
    {
      "cell_type": "markdown",
      "metadata": {
        "id": "tU1XRCKr3e0n"
      },
      "source": [
        "## 3. Model Building"
      ]
    },
    {
      "cell_type": "code",
      "execution_count": 14,
      "metadata": {
        "colab": {
          "base_uri": "https://localhost:8080/"
        },
        "id": "kpkANohy3TaJ",
        "outputId": "cf45823b-c3b5-491f-e6d1-12e0a7dd50da"
      },
      "outputs": [
        {
          "output_type": "stream",
          "name": "stderr",
          "text": [
            "/usr/local/lib/python3.11/dist-packages/keras/src/layers/convolutional/base_conv.py:107: UserWarning: Do not pass an `input_shape`/`input_dim` argument to a layer. When using Sequential models, prefer using an `Input(shape)` object as the first layer in the model instead.\n",
            "  super().__init__(activity_regularizer=activity_regularizer, **kwargs)\n"
          ]
        }
      ],
      "source": [
        "#CNN Architecture is In -> [[Conv2D->relu]*2 -> MaxPool2D -> Dropout]*2 ->\n",
        "                           #Flatten -> Dense -> Dropout -> Out\n",
        "model = tf.keras.Sequential()\n",
        "\n",
        "model.add(layers.Conv2D(filters=32, kernel_size=(5,5), padding='Same',\n",
        "                       activation=tf.nn.relu, input_shape = (28,28,1)))\n",
        "model.add(layers.Conv2D(filters=32, kernel_size=(5,5), padding='Same',\n",
        "                       activation=tf.nn.relu))\n",
        "model.add(layers.MaxPool2D(pool_size=(2,2)))\n",
        "model.add(layers.Dropout(0.25))\n",
        "\n",
        "\n",
        "model.add(layers.Conv2D(filters=64, kernel_size=(3,3), padding='Same',\n",
        "                       activation=tf.nn.relu, input_shape = (28,28,1)))\n",
        "model.add(layers.Conv2D(filters=64, kernel_size=(3,3), padding='Same',\n",
        "                       activation=tf.nn.relu))\n",
        "model.add(layers.MaxPool2D(pool_size=(2,2),strides=(2,2)))\n",
        "model.add(layers.Dropout(0.25))\n",
        "\n",
        "model.add(layers.Flatten())\n",
        "model.add(layers.Dense(256,activation=tf.nn.relu))\n",
        "model.add(layers.Dropout(0.25))\n",
        "model.add(layers.Dense(10,activation=tf.nn.softmax))"
      ]
    },
    {
      "cell_type": "code",
      "execution_count": 15,
      "metadata": {
        "id": "VuN1-e0uPCWy"
      },
      "outputs": [],
      "source": [
        "srvr4156_optimizer = tf.keras.optimizers.RMSprop(learning_rate=0.001, rho=0.9, epsilon=1e-08)"
      ]
    },
    {
      "cell_type": "code",
      "execution_count": 16,
      "metadata": {
        "id": "wiwSpyiYPcIb"
      },
      "outputs": [],
      "source": [
        "#Compiling Model\n",
        "\n",
        "model.compile(optimizer = srvr4156_optimizer, loss='categorical_crossentropy',\n",
        "             metrics=[\"accuracy\"])"
      ]
    },
    {
      "cell_type": "code",
      "execution_count": 17,
      "metadata": {
        "id": "FqExgW5DQoab"
      },
      "outputs": [],
      "source": [
        "#Setting Learning rate annealer\n",
        "\n",
        "learning_rate_reduction = tf.keras.callbacks.ReduceLROnPlateau(monitor='val_acc',\n",
        "                                           patience=3,\n",
        "                                           verbose=1,\n",
        "                                           factor=0.5,\n",
        "                                           min_lr=0.00001)"
      ]
    },
    {
      "cell_type": "code",
      "execution_count": 18,
      "metadata": {
        "id": "VpoFy1wQRJf8"
      },
      "outputs": [],
      "source": [
        "srvr4156_epochs=10\n",
        "srvr4156_batch_size = 112"
      ]
    },
    {
      "cell_type": "code",
      "execution_count": 19,
      "metadata": {
        "id": "lTi2iTMKROwt"
      },
      "outputs": [],
      "source": [
        "datagen = ImageDataGenerator(\n",
        "        featurewise_center=False,  # set input mean to 0 over the dataset\n",
        "        samplewise_center=False,  # set each sample mean to 0\n",
        "        featurewise_std_normalization=False,  # divide inputs by std of the dataset\n",
        "        samplewise_std_normalization=False,  # divide each input by its std\n",
        "        zca_whitening=False,  # apply ZCA whitening\n",
        "        rotation_range=10,  # randomly rotate images in the range (degrees, 0 to 180)\n",
        "        zoom_range = 0.1, # Randomly zoom image\n",
        "        width_shift_range=0.1,  # randomly shift images horizontally (fraction of total width)\n",
        "        height_shift_range=0.1,  # randomly shift images vertically (fraction of total height)\n",
        "        horizontal_flip=False,  # randomly flip images\n",
        "        vertical_flip=False)  # randomly flip images\n",
        "\n",
        "\n",
        "datagen.fit(X_srvr4156train)"
      ]
    },
    {
      "cell_type": "markdown",
      "metadata": {
        "id": "qkX93W-P4iYl"
      },
      "source": [
        "## 4. Model Fitting"
      ]
    },
    {
      "cell_type": "code",
      "execution_count": 20,
      "metadata": {
        "colab": {
          "base_uri": "https://localhost:8080/"
        },
        "id": "X_KVwvvusOCG",
        "outputId": "50f53dec-f9d4-446d-9a51-4547cbed7493"
      },
      "outputs": [
        {
          "output_type": "stream",
          "name": "stdout",
          "text": [
            "CUDA Available.\n"
          ]
        }
      ],
      "source": [
        "if(tf.test.is_built_with_cuda() == True):\n",
        "    print(\"CUDA Available.\")\n",
        "else:\n",
        "    print(\"CUDA not Available.\")"
      ]
    },
    {
      "cell_type": "code",
      "execution_count": 21,
      "metadata": {
        "colab": {
          "base_uri": "https://localhost:8080/"
        },
        "id": "BYvD4vpOz3_L",
        "outputId": "7a3ff0ea-40ce-48e9-bee4-d8189d43c6e4"
      },
      "outputs": [
        {
          "output_type": "stream",
          "name": "stdout",
          "text": [
            "Epoch 1/10\n"
          ]
        },
        {
          "output_type": "stream",
          "name": "stderr",
          "text": [
            "/usr/local/lib/python3.11/dist-packages/keras/src/trainers/data_adapters/py_dataset_adapter.py:121: UserWarning: Your `PyDataset` class should call `super().__init__(**kwargs)` in its constructor. `**kwargs` can include `workers`, `use_multiprocessing`, `max_queue_size`. Do not pass these arguments to `fit()`, as they will be ignored.\n",
            "  self._warn_if_super_not_called()\n"
          ]
        },
        {
          "output_type": "stream",
          "name": "stdout",
          "text": [
            "337/337 - 184s - 546ms/step - accuracy: 0.8556 - loss: 0.4351 - val_accuracy: 0.9774 - val_loss: 0.0734 - learning_rate: 1.0000e-03\n",
            "Epoch 2/10\n"
          ]
        },
        {
          "output_type": "stream",
          "name": "stderr",
          "text": [
            "/usr/local/lib/python3.11/dist-packages/keras/src/callbacks/callback_list.py:145: UserWarning: Learning rate reduction is conditioned on metric `val_acc` which is not available. Available metrics are: accuracy,loss,val_accuracy,val_loss,learning_rate.\n",
            "  callback.on_epoch_end(epoch, logs)\n",
            "/usr/local/lib/python3.11/dist-packages/keras/src/trainers/epoch_iterator.py:107: UserWarning: Your input ran out of data; interrupting training. Make sure that your dataset or generator can generate at least `steps_per_epoch * epochs` batches. You may need to use the `.repeat()` function when building your dataset.\n",
            "  self._interrupted_warning()\n"
          ]
        },
        {
          "output_type": "stream",
          "name": "stdout",
          "text": [
            "337/337 - 6s - 18ms/step - accuracy: 0.9464 - loss: 0.1819 - val_accuracy: 0.9814 - val_loss: 0.0650 - learning_rate: 1.0000e-03\n",
            "Epoch 3/10\n",
            "337/337 - 175s - 518ms/step - accuracy: 0.9637 - loss: 0.1185 - val_accuracy: 0.9876 - val_loss: 0.0487 - learning_rate: 1.0000e-03\n",
            "Epoch 4/10\n",
            "337/337 - 5s - 16ms/step - accuracy: 0.9821 - loss: 0.0613 - val_accuracy: 0.9855 - val_loss: 0.0525 - learning_rate: 1.0000e-03\n",
            "Epoch 5/10\n",
            "337/337 - 174s - 515ms/step - accuracy: 0.9743 - loss: 0.0830 - val_accuracy: 0.9876 - val_loss: 0.0427 - learning_rate: 1.0000e-03\n",
            "Epoch 6/10\n",
            "337/337 - 5s - 16ms/step - accuracy: 0.9732 - loss: 0.0851 - val_accuracy: 0.9876 - val_loss: 0.0474 - learning_rate: 1.0000e-03\n",
            "Epoch 7/10\n",
            "337/337 - 174s - 515ms/step - accuracy: 0.9786 - loss: 0.0686 - val_accuracy: 0.9907 - val_loss: 0.0384 - learning_rate: 1.0000e-03\n",
            "Epoch 8/10\n",
            "337/337 - 5s - 16ms/step - accuracy: 0.9911 - loss: 0.0143 - val_accuracy: 0.9895 - val_loss: 0.0430 - learning_rate: 1.0000e-03\n",
            "Epoch 9/10\n",
            "337/337 - 172s - 510ms/step - accuracy: 0.9821 - loss: 0.0591 - val_accuracy: 0.9912 - val_loss: 0.0365 - learning_rate: 1.0000e-03\n",
            "Epoch 10/10\n",
            "337/337 - 5s - 16ms/step - accuracy: 0.9911 - loss: 0.0227 - val_accuracy: 0.9919 - val_loss: 0.0366 - learning_rate: 1.0000e-03\n"
          ]
        }
      ],
      "source": [
        "#Fitting the model\n",
        "# Commenting it since no need to run it again\n",
        "\n",
        "history = model.fit(datagen.flow(X_srvr4156train, Y_srvr4156train, batch_size=srvr4156_batch_size),\n",
        "                    epochs=srvr4156_epochs,\n",
        "                    validation_data=(X_val, Y_val),\n",
        "                    verbose=2,\n",
        "                    steps_per_epoch=X_srvr4156train.shape[0] // srvr4156_batch_size,\n",
        "                    callbacks=[learning_rate_reduction])\n"
      ]
    },
    {
      "cell_type": "code",
      "execution_count": 22,
      "metadata": {
        "id": "5zyvqJu6I16Y"
      },
      "outputs": [],
      "source": [
        "# Saving the model for further faster processing\n",
        "\n",
        "model.save(\"CNNmodel.keras\", include_optimizer = True)"
      ]
    },
    {
      "cell_type": "code",
      "execution_count": 23,
      "metadata": {
        "id": "K2w2icoyI9b1"
      },
      "outputs": [],
      "source": [
        "from tensorflow.keras.models import load_model\n",
        "\n",
        "# Define a custom object to map 'softmax_v2' to 'softmax'\n",
        "custom_objects = {'softmax_v2': tf.keras.activations.softmax}\n",
        "cnn_model = load_model(\"CNNmodel.keras\", custom_objects=custom_objects)"
      ]
    },
    {
      "cell_type": "markdown",
      "metadata": {
        "id": "J2i6erFdsOCG"
      },
      "source": [
        "## 5. Analyzing the model"
      ]
    },
    {
      "cell_type": "code",
      "execution_count": 24,
      "metadata": {
        "colab": {
          "base_uri": "https://localhost:8080/",
          "height": 607
        },
        "id": "PMKZhU75z-b6",
        "outputId": "6dc32a2f-207b-4d4a-a396-04eedd1bdf6c"
      },
      "outputs": [
        {
          "output_type": "display_data",
          "data": {
            "text/plain": [
              "<Figure size 800x600 with 2 Axes>"
            ],
            "image/png": "[encoded data removed]"
          },
          "metadata": {}
        }
      ],
      "source": [
        "# The loss and accuracy curves for training and validation\n",
        "\n",
        "fig, ax = plt.subplots(2, 1, figsize=(8, 6))\n",
        "ax[0].plot(history.history['loss'], color='b', label=\"Training Loss\")\n",
        "ax[0].plot(history.history['val_loss'], color='r', label=\"Validation Loss\")\n",
        "ax[0].legend(loc='best', shadow=True)\n",
        "ax[0].set_title('Loss Curves')\n",
        "\n",
        "ax[1].plot(history.history['accuracy'], color='b', label=\"Training Accuracy\")\n",
        "ax[1].plot(history.history['val_accuracy'], color='r', label=\"Validation Accuracy\")\n",
        "ax[1].legend(loc='best', shadow=True)\n",
        "ax[1].set_title('Accuracy Curves')\n",
        "\n",
        "plt.tight_layout()\n",
        "plt.show()\n"
      ]
    },
    {
      "cell_type": "code",
      "execution_count": 25,
      "metadata": {
        "colab": {
          "base_uri": "https://localhost:8080/",
          "height": 524
        },
        "id": "IK6-TyagG4G4",
        "outputId": "29938862-a67a-4533-fc11-4b41aaa707dd"
      },
      "outputs": [
        {
          "output_type": "stream",
          "name": "stdout",
          "text": [
            "\u001b[1m132/132\u001b[0m \u001b[32m━━━━━━━━━━━━━━━━━━━━\u001b[0m\u001b[37m\u001b[0m \u001b[1m5s\u001b[0m 38ms/step\n"
          ]
        },
        {
          "output_type": "display_data",
          "data": {
            "text/plain": [
              "<Figure size 640x480 with 2 Axes>"
            ],
            "image/png": "[encoded data removed]"
          },
          "metadata": {}
        }
      ],
      "source": [
        "# plotting confussion matrix\n",
        "\n",
        "def plot_confusion_matrix(cm, classes,\n",
        "                          normalize=False,\n",
        "                          title='Confusion matrix',\n",
        "                          cmap=plt.cm.Blues):\n",
        "    \"\"\"\n",
        "    This function prints and plots the confusion matrix.\n",
        "    Normalization can be applied by setting `normalize=True`.\n",
        "    \"\"\"\n",
        "    plt.imshow(cm, interpolation='nearest', cmap=cmap)\n",
        "    plt.title(title)\n",
        "    plt.colorbar()\n",
        "    tick_marks = np.arange(len(classes))\n",
        "    plt.xticks(tick_marks, classes, rotation=45)\n",
        "    plt.yticks(tick_marks, classes)\n",
        "\n",
        "    if normalize:\n",
        "        cm = cm.astype('float') / cm.sum(axis=1)[:, np.newaxis]\n",
        "\n",
        "    thresh = cm.max() / 2.\n",
        "    for i, j in itertools.product(range(cm.shape[0]), range(cm.shape[1])):\n",
        "        plt.text(j, i, cm[i, j],\n",
        "                 horizontalalignment=\"center\",\n",
        "                 color=\"white\" if cm[i, j] > thresh else \"black\")\n",
        "\n",
        "    plt.tight_layout()\n",
        "    plt.ylabel('True label')\n",
        "    plt.xlabel('Predicted label')\n",
        "\n",
        "# Predict the values from the validation dataset\n",
        "Y_pred = model.predict(X_val)\n",
        "# Convert predictions classes to one hot vectors\n",
        "Y_pred_classes = np.argmax(Y_pred,axis = 1)\n",
        "# Convert validation observations to one hot vectors\n",
        "Y_true = np.argmax(Y_val,axis = 1)\n",
        "# compute the confusion matrix\n",
        "confusion_mtx = confusion_matrix(Y_true, Y_pred_classes)\n",
        "# plot the confusion matrix\n",
        "plot_confusion_matrix(confusion_mtx, classes = range(10))"
      ]
    },
    {
      "cell_type": "markdown",
      "metadata": {
        "id": "5A6DRczwsOCH"
      },
      "source": [
        "### Important Error"
      ]
    },
    {
      "cell_type": "code",
      "execution_count": 26,
      "metadata": {
        "colab": {
          "base_uri": "https://localhost:8080/",
          "height": 430
        },
        "id": "tV4wnLTQG4G8",
        "outputId": "ef6240e0-d1f9-4e84-9ef6-329206c740ba"
      },
      "outputs": [
        {
          "output_type": "display_data",
          "data": {
            "text/plain": [
              "<Figure size 640x480 with 6 Axes>"
            ],
            "image/png": "[encoded data removed]"
          },
          "metadata": {}
        }
      ],
      "source": [
        "# Errors are difference between predicted labels and true labels\n",
        "errors = (Y_pred_classes - Y_true != 0)\n",
        "\n",
        "Y_pred_classes_errors = Y_pred_classes[errors]\n",
        "Y_pred_errors = Y_pred[errors]\n",
        "Y_true_errors = Y_true[errors]\n",
        "X_val_errors = X_val[errors]\n",
        "\n",
        "def display_errors(errors_index,img_errors,pred_errors, obs_errors):\n",
        "    \"\"\" This function shows 6 images with their predicted and real labels\"\"\"\n",
        "    n = 0\n",
        "    nrows = 2\n",
        "    ncols = 3\n",
        "    fig, ax = plt.subplots(nrows,ncols,sharex=True,sharey=True)\n",
        "    for row in range(nrows):\n",
        "        for col in range(ncols):\n",
        "            error = errors_index[n]\n",
        "            ax[row,col].imshow((img_errors[error]).reshape((28,28)))\n",
        "            ax[row,col].set_title(\" Predicted :{} True :{}\".format(pred_errors[error],obs_errors[error]))\n",
        "            n += 1\n",
        "\n",
        "# Probabilities of the wrong predicted numbers\n",
        "Y_pred_errors_prob = np.max(Y_pred_errors,axis = 1)\n",
        "\n",
        "# Predicted probabilities of the true values in the error set\n",
        "true_prob_errors = np.diagonal(np.take(Y_pred_errors, Y_true_errors, axis=1))\n",
        "\n",
        "# Difference between the probability of the predicted label and the true label\n",
        "delta_pred_true_errors = Y_pred_errors_prob - true_prob_errors\n",
        "\n",
        "# Sorted list of the delta prob errors\n",
        "sorted_dela_errors = np.argsort(delta_pred_true_errors)\n",
        "\n",
        "# Top 6 errors\n",
        "most_important_errors = sorted_dela_errors[-6:]\n",
        "\n",
        "# Show the top 6 errors\n",
        "display_errors(most_important_errors, X_val_errors, Y_pred_classes_errors, Y_true_errors)"
      ]
    },
    {
      "cell_type": "markdown",
      "metadata": {
        "id": "7xIbswywsOCH"
      },
      "source": [
        "## 6. Predicting the test data"
      ]
    },
    {
      "cell_type": "code",
      "execution_count": 27,
      "metadata": {
        "colab": {
          "base_uri": "https://localhost:8080/"
        },
        "id": "N9KswR97G4G-",
        "outputId": "2450a4f2-2eea-401e-d970-ed54df12238d"
      },
      "outputs": [
        {
          "output_type": "stream",
          "name": "stdout",
          "text": [
            "\u001b[1m875/875\u001b[0m \u001b[32m━━━━━━━━━━━━━━━━━━━━\u001b[0m\u001b[37m\u001b[0m \u001b[1m33s\u001b[0m 37ms/step\n"
          ]
        }
      ],
      "source": [
        "# predict results\n",
        "results = cnn_model.predict(srvr4156test)\n",
        "\n",
        "# select the indix with the maximum probability\n",
        "results = np.argmax(results,axis = 1)\n",
        "\n",
        "results = pd.Series(results,name=\"Label\")"
      ]
    },
    {
      "cell_type": "code",
      "execution_count": 28,
      "metadata": {
        "colab": {
          "base_uri": "https://localhost:8080/",
          "height": 135
        },
        "id": "i4-__qO8yu9l",
        "outputId": "e6d317ee-8af0-4fe0-d464-881bdf0856af"
      },
      "outputs": [
        {
          "output_type": "display_data",
          "data": {
            "text/plain": [
              "<Figure size 1500x300 with 10 Axes>"
            ],
            "image/png": "[encoded data removed]"
          },
          "metadata": {}
        }
      ],
      "source": [
        "import matplotlib.pyplot as plt\n",
        "\n",
        "# Assuming 'results' contains predicted labels and 'srvr4156test' contains test images\n",
        "# Select a subset of images to display (e.g., the first 10)\n",
        "num_images_to_display = 10\n",
        "images = srvr4156test[:num_images_to_display]\n",
        "predicted_labels = results[:num_images_to_display]\n",
        "\n",
        "# Create a figure and axes for the images\n",
        "fig, axes = plt.subplots(1, num_images_to_display, figsize=(15, 3))\n",
        "\n",
        "# Iterate through the images and display them with their predicted labels\n",
        "for i, ax in enumerate(axes):\n",
        "    ax.imshow(images[i].reshape(28, 28), cmap='gray')  # Reshape and display the image\n",
        "    ax.set_title(f\"Predicted: {predicted_labels[i]}\")  # Set the title with the predicted label\n",
        "    ax.axis('off')  # Turn off the axes\n",
        "\n",
        "plt.show()  # Show the figure"
      ]
    },
    {
      "cell_type": "code",
      "execution_count": 29,
      "metadata": {
        "colab": {
          "base_uri": "https://localhost:8080/"
        },
        "id": "AlMCTkrdz-zo",
        "outputId": "fa19a7a8-f040-4b56-d97a-f29296278d79"
      },
      "outputs": [
        {
          "output_type": "stream",
          "name": "stdout",
          "text": [
            "Images saved to 'predicted_images.zip' file.\n"
          ]
        }
      ],
      "source": [
        "import os\n",
        "import numpy as np\n",
        "from PIL import Image\n",
        "import zipfile\n",
        "\n",
        "# Create a ZIP file to store the images\n",
        "output_zip = 'predicted_images.zip'\n",
        "\n",
        "# Open a new ZIP file in write mode\n",
        "with zipfile.ZipFile(output_zip, 'w') as zipf:\n",
        "    # Iterate through the test images and save them with predicted labels\n",
        "    for i, image in enumerate(srvr4156test):\n",
        "        predicted_label = results[i]  # Get the predicted label for the current image\n",
        "        image_data = (image.reshape(28, 28) * 255).astype(np.uint8)  # Reshape and scale to 0-255\n",
        "        image = Image.fromarray(image_data, mode='L')  # Create a PIL Image object\n",
        "\n",
        "        # Generate a temporary filename with .jpg extension\n",
        "        image_filename = f'image_{i}_predicted_{predicted_label}.jpg'\n",
        "\n",
        "        # Save the image as JPG\n",
        "        image.save(image_filename, format='JPEG')\n",
        "\n",
        "        # Add the file to the ZIP archive\n",
        "        zipf.write(image_filename)\n",
        "\n",
        "        # Remove the temporary file\n",
        "        os.remove(image_filename)\n",
        "\n",
        "print(f\"Images saved to '{output_zip}' file.\")\n"
      ]
    },
    {
      "cell_type": "code",
      "execution_count": 30,
      "metadata": {
        "id": "qvS8FrQEG4HC"
      },
      "outputs": [],
      "source": [
        "submission = pd.concat([pd.Series(range(1,28001),name = \"ImageId\"),results],axis = 1)\n",
        "\n",
        "submission.to_csv(\"cnn_mnist_datagen.csv\",index=False)"
      ]
    }
  ],
  "metadata": {
    "accelerator": "TPU",
    "colab": {
      "gpuType": "V28",
      "provenance": []
    },
    "kernelspec": {
      "display_name": "Python 3",
      "name": "python3"
    },
    "language_info": {
      "codemirror_mode": {
        "name": "ipython",
        "version": 3
      },
      "file_extension": ".py",
      "mimetype": "text/x-python",
      "name": "python",
      "nbconvert_exporter": "python",
      "pygments_lexer": "ipython3",
      "version": "3.6.4"
    }
  },
  "nbformat": 4,
  "nbformat_minor": 0
}